{
  "nbformat": 4,
  "nbformat_minor": 0,
  "metadata": {
    "colab": {
      "name": "Text_Summ_Test.ipynb",
      "version": "0.3.2",
      "provenance": [],
      "collapsed_sections": []
    },
    "kernelspec": {
      "display_name": "Python 3",
      "language": "python",
      "name": "python3"
    }
  },
  "cells": [
    {
      "metadata": {
        "id": "0ZeNEjAp4gms",
        "colab_type": "code",
        "outputId": "bb20aad5-be25-443d-c0b9-141c8a07b8c3",
        "colab": {
          "base_uri": "https://localhost:8080/",
          "height": 124
        }
      },
      "cell_type": "code",
      "source": [
        "from google.colab import drive\n",
        "drive.mount('/content/drive')"
      ],
      "execution_count": 0,
      "outputs": [
        {
          "output_type": "stream",
          "text": [
            "Go to this URL in a browser: https://accounts.google.com/o/oauth2/auth?client_id=947318989803-6bn6qk8qdgf4n4g3pfee6491hc0brc4i.apps.googleusercontent.com&redirect_uri=urn%3Aietf%3Awg%3Aoauth%3A2.0%3Aoob&scope=email%20https%3A%2F%2Fwww.googleapis.com%2Fauth%2Fdocs.test%20https%3A%2F%2Fwww.googleapis.com%2Fauth%2Fdrive%20https%3A%2F%2Fwww.googleapis.com%2Fauth%2Fdrive.photos.readonly%20https%3A%2F%2Fwww.googleapis.com%2Fauth%2Fpeopleapi.readonly&response_type=code\n",
            "\n",
            "Enter your authorization code:\n",
            "··········\n",
            "Mounted at /content/drive\n"
          ],
          "name": "stdout"
        }
      ]
    },
    {
      "metadata": {
        "id": "wTTNavU2rusa",
        "colab_type": "code",
        "outputId": "f6a862a0-d228-4950-8fee-c093e0285836",
        "colab": {
          "base_uri": "https://localhost:8080/",
          "height": 104
        }
      },
      "cell_type": "code",
      "source": [
        "#import package\n",
        "!pip install Rouge\n",
        "import numpy as np\n",
        "import pandas as pd\n",
        "import nltk\n",
        "import re\n",
        "import pickle\n",
        "import networkx as nx\n",
        "from nltk.corpus import stopwords\n",
        "nltk.download(\"stopwords\")\n",
        "nltk.download('punkt')\n",
        "from sklearn.metrics.pairwise import cosine_similarity\n",
        "from nltk.tokenize import sent_tokenize\n",
        "import random\n",
        "from rouge import Rouge\n",
        "from rouge import FilesRouge\n",
        "import tensorflow as tf\n",
        "import statistics as stats\n"
      ],
      "execution_count": 0,
      "outputs": [
        {
          "output_type": "stream",
          "text": [
            "Requirement already satisfied: Rouge in /usr/local/lib/python3.6/dist-packages (0.3.1)\n",
            "[nltk_data] Downloading package stopwords to /root/nltk_data...\n",
            "[nltk_data]   Package stopwords is already up-to-date!\n",
            "[nltk_data] Downloading package punkt to /root/nltk_data...\n",
            "[nltk_data]   Package punkt is already up-to-date!\n"
          ],
          "name": "stdout"
        }
      ]
    },
    {
      "metadata": {
        "id": "c7P0EeyNrusg",
        "colab_type": "text"
      },
      "cell_type": "markdown",
      "source": [
        "# Input Data"
      ]
    },
    {
      "metadata": {
        "id": "h_HGocfErusi",
        "colab_type": "text"
      },
      "cell_type": "markdown",
      "source": [
        "The input data should be text file containing multiple sentences"
      ]
    },
    {
      "metadata": {
        "id": "5OHulnyVrusk",
        "colab_type": "code",
        "colab": {}
      },
      "cell_type": "code",
      "source": [
        "#Example\n",
        "text_1=[\" If you find yourself taking it personally or doubting yourself, try to build your confidence instead. Make a list of your favorite things about yourself and spend time nurturing these traits. That way, if someone else doesn’t appreciate you, it won’t seem so important because you know and appreciate yourself.\\n\\n\\nFor example, maybe you like that you are a loyal friend or maybe you like that you are kind to people. Write down the great qualities that you have and focus on these.\\nDon’t take it personally. Your crush's rejection likely has nothing to do with you. Your crush not having feelings for you is not a statement about you; it’s a statement about them. You are a perfectly lovely person who simply wasn’t meant to be with your crush.\\nThere are so many reasons that your crush might not be interested, and almost none of them have to do with you. Maybe your crush wasn’t ready for a relationship. Maybe they don’t have time right now. Maybe they don’t want to make a commitment to someone. Maybe they have feelings for someone else. Don’t question yourself. It’s their loss!;\\n, Make a list of everything else in your life, such as the people, activities, and interests that you have. This will help you to see yourself more clearly and not let one person’s rejection be blown out of proportion.\\n\\n\\nDon’t let your crush's rejection define you. There are so many other important aspects of your life. All of these things that make you happy help define who you are. You are the same wonderful person whether someone notices it or not. Your worth is never dependent on any other person. Seeing all of these other great parts of your life will help you to put one person's rejection in perspective., There are over seven billion people on our planet. So one of them didn’t like you. That’s ok! That one person might have felt like the whole world to you, but they are simply one of many. There are probably millions of people who have similar characteristics as your crush. Now that you know what kind of person you are looking for, you can open your eyes to all the other wonderful people out there.Over your lifetime, there will likely be many people who you like and many who like you. Sometimes you will like someone and they won’t like you back. Sometimes someone will like you and you won’t like them back. Sometimes you both won’t like each other. And every once in a while you will find someone who likes you as much as you like them. This is to be expected. This is what happens when there are so many different people in the world. Think of it as an adventure and journey to finding the right person rather than a form of rejection.\\n\\n\"]\n",
        "text_2=['Relationships sometimes experience moments of doubt where one or both partners simply don’t know what to do. They may feel that ‘things will get better’ or that they should give their partner another chance, but those second chances don’t always work out.\\n\\nIf you’re having doubts, stop and think about them. Think about what’s causing the doubts, and why they’re bothering you. Are your doubts uncalled for, or reasonable? Do you or your partner have a chance of overcoming these doubts? Should you give your partner a second chance?\\nIf you decide it’s time to end the relationship, make sure you fully understand your reasons and are able to explain them to someone else. Prepare yourself to talk about your reasons. But also realize you don’t have to justify your reasons.;\\n, Breaking up with someone shouldn’t be done on the spur of the moment. But you also shouldn’t try to avoid it because you’re scared of hurting your partner, or you’re nervous about having the actual breakup conversation. Once you’ve had the time to think your reasons through, and you know what you’re going to say, it’s time to speak to your partner.\\n\\nPart of your preparation should also be to think about how your partner is going to react. Think about your responses to their reactions so you don’t have to struggle with what to say.\\n\\n, No matter what location you choose, it is kinder to do it in person. Breaking up with someone via phone, email or text is disrespectful and hurtful. You wouldn’t want someone to do that to you, so don’t do that to them. You also need to consider how your partner is going to react to the breakup.\\n\\nYou may want to choose a private location so you don’t embarrass them if they get upset or angry. You don’t have to humiliate someone to break up with them.\\nBreaking up with someone is a personal process, it’s not something you bring friends to. If you feel you need the support afterwards, make plans to meet up with your friends later.\\nIf you have a long-distance relationship with someone, and it’s impossible to get together in person to breakup, using the phone (or something like Skype) is acceptable.\\n\\n, Breaking up with someone isn’t an opportunity to criticize every last annoying thing about that person. It’s okay to explain WHY you want to breakup, but don’t be harsh or brutal about it. Be gentle and respectful. Always remember to treat your partner like you’d want them to treat you.\\n\\nLet your partner know that they still matter to you, and that they’re still a great person. List some of their awesome qualities to help boost their spirit.\\nBeing honourable and respectful also means NOT spreading negative comments about your soon-to-be ex-partner behind their back.\\n\\n, One thing to keep in mind when you’re breaking up with someone is that you’re prepared. You’ve had the chance to think things through and come up with responses. You’ve also had a chance to start processing your emotions. Your partner hasn’t. To them the breakup could be sudden and/or a shock. As such, don’t assume it’s going to be a quick and easy process.\\n\\nGo into the conversation knowing you might need to listen to them plead, beg, complain, get angry or even be relieved. You can’t walk away after you’ve told them you’re breaking up, you need to hear them out as well.\\n\\n, You’ve broken up with this person, now isn’t the time to suddenly call, email and text them all night. It’s entirely possible they may never want to talk to you again. If you want to try to remain friends, it’s worth a try, but realize it might not work out. Or it might not be the same type of friendship you had before you dated.\\n\\nAfter a few days consider sending them an email to ask if they’re okay. Or saying ‘Hi’ to them in the hallway when you pass by. Don’t ignore them if you see them, but you don’t have to try to engage them if they ignore you.\\n\\n, Who you share your feelings with is up to you, but it should be someone you can trust to support you and keep your personal life private. Hopefully you have a friend of family member whom you feel you can trust, and you can speak to them about how you feel. If not, consider talking to a counsellor at school.\\n\\nThis trusted and supportive person may be able to help out, or they can provide you with advice on who can. Whatever you’re going through, realize you don’t have to go through it alone.\\n\\n, Crying gets a bad rap. There’s nothing wrong with crying because you feel sad, upset or even angry. Crying can actually make you feel better because it releases stress hormones through tears.\\n\\nAllowing yourself to cry on your own terms will help prevent getting upset at an inopportune time, like in the middle of class or a baseball game.\\n\\n, Going through a breakup can be extremely stressful and emotionally draining. You have enough to deal with on an emotional level, you can’t allow yourself to get physically unhealthy as well. This means you need to remember to continue eating properly, getting enough sleep and exercising regularly. Taking care of yourself physically will help you get through your emotional trauma successfully.\\n\\n, Once you’ve had the chance to express your emotions initially, keep yourself busy. Continue to do the things you enjoy, like reading, going to a movie, baking, etc. You might need to take a moment every now and again to have a good cry or get a hug from a friend, but once that’s over, get back to being busy.\\n\\nConsider this as an opportunity to redecorate your room or learn how to play the guitar. Focus your energy on something productive as often as you can.\\n\\n, You aren’t going to feel better instantly, it’s going to take a little time before you get back to your ‘normal’ self, but that’s okay. Take the time you need, don’t rush yourself. But do realize that you will feel better eventually. These bad feelings will not last forever, no matter how bad they feel. Each person recovers from a breakup at different speeds.\\n\\nDon’t compare your healing process to others, you aren’t them, and they aren’t you.\\n\\n, No matter how the breakup happened, whether you’re the one who initiated the breakup, or someone broke up with you, you’re still an awesome and lovable person. Breakups happen for a whole number of reasons, and they are almost never because of only one person. Don’t blame yourself for what happened, and don’t assume you deserve to feel badly.\\n\\nIf you start thinking negatively, take a moment to stop and think of all the awesome things about yourself. Write them down if you have to.\\nPut sticky notes on your mirror to remind you how awesome you are. As corny as it sounds, it does help!\\n\\n, Unfortunately some people get so bogged down in the emotion of a breakup that they look for unnatural ways to make themselves feel better. And in some cases, those unnatural ways can be drugs and alcohol. This is obviously a dangerous thing to do and it’s not a road you want to go down. If you notice yourself thinking about drugs or alcohol, or you feel tempted to do things that are ‘out of the ordinary’ for yourself, get help.\\n\\nDon’t be afraid to tell your parents, friends or a trusted teacher that you need to talk to someone. It is worth the effort to stop yourself before something truly destructive happens.\\n\\n, It’s no ones fault, and no one did it on purpose, but sometimes after a period of time both sides just realize they weren’t meant for each other and it’s time to move on. After getting to know someone, you might start to realize they aren’t the person you thought they were, or that they don’t share the same interests and values as you.\\n\\nHeartache can happen when one of the people realizes the relationship is over before the other.\\nEven if you’re the one who notices first and decides to call it off, it’s still not your fault. You’re simply doing what’s right for you, and in the long-run, what’s right for both of you.\\n\\n, Seeing someone from a distance, or even knowing them as an acquaintance, doesn’t give you a lot of insight into who that person is. Spending more time with them in a relationship sheds light on a lot of things you wouldn’t have known about beforehand. And sometimes these things you learn about the other person are not things you hoped for.\\n\\nYou might find that the person you thought you could get along with wants to do nothing but argue with you, or maybe they’re too protective or overbearing. It might have been impossible to know this before you starting dating.\\n\\n, Probably one of the more painful reasons people breakup is because one of the people in the relationship finds themselves in love with another person. Hopefully this person broke-up with their partner BEFORE they acted on their feelings for this other person, but that doesn’t always happen.\\n\\nIf you’re the one who has fallen for someone else, respect your existing partner enough to breakup with them BEFORE you cheat on them. It’s okay to fall for someone else, but acting on those feeling while leading someone else on is dishonourable.\\n\\n']\n",
        "text_all=text_1+text_2\n",
        "\n",
        "headline_1=['Make a list of what you like about yourself. Write down everything in your life that makes you happy.Look at the big picture']\n",
        "headline_2=[\"Think it over.Take your time.Choose an appropriate location.Keep your intentions honourable and respectful.Listen.Give your ex-partner space.Share how you’re feeling with someone you trust.Cry as much as you need to.Take good care of yourself.Keep yourself busy.Allow yourself the time you need. Realize you’re still an awesome person.Stop yourself from developing bad habits. Realize people sometimes grow apart.Understand that people are not always who you thought they were. Recognize that one of you has fallen for someone else.\"]\n",
        "headline_all = headline_1+headline_2\n"
      ],
      "execution_count": 0,
      "outputs": []
    },
    {
      "metadata": {
        "id": "qtbEbNTBrusp",
        "colab_type": "text"
      },
      "cell_type": "markdown",
      "source": [
        "# Data Cleaning and Processing"
      ]
    },
    {
      "metadata": {
        "id": "AHYLrq8Nrusr",
        "colab_type": "code",
        "colab": {}
      },
      "cell_type": "code",
      "source": [
        "sentences = []\n",
        "for s in text_all:\n",
        "    #split into sentences\n",
        "    token=sent_tokenize(s)\n",
        "    #lowercase\n",
        "    token=[x.lower() for x in token]\n",
        "    #remove punctuation\n",
        "    token=[re.sub(\"[^a-zA-Z]+\", \" \", x) for x in token]\n",
        "    #remove stop words\n",
        "    stop_list = set(stopwords.words('english')) \n",
        "    filtered_tokens=[word for word in token if word not in stop_list]\n",
        "    #add to list of tokenized sentences\n",
        "    sentences.append(filtered_tokens)\n"
      ],
      "execution_count": 0,
      "outputs": []
    },
    {
      "metadata": {
        "id": "PlJeEoaxrusv",
        "colab_type": "text"
      },
      "cell_type": "markdown",
      "source": [
        "# Embedding"
      ]
    },
    {
      "metadata": {
        "id": "Dwxb0ArPzqnx",
        "colab_type": "code",
        "colab": {}
      },
      "cell_type": "code",
      "source": [
        "#Add to path accordingly \n",
        "path = \"\""
      ],
      "execution_count": 0,
      "outputs": []
    },
    {
      "metadata": {
        "id": "vud_fKyDrusx",
        "colab_type": "code",
        "colab": {}
      },
      "cell_type": "code",
      "source": [
        "# Extract word vectors using pre-trained GLOVE model\n",
        "word_embeddings = {}\n",
        "f = open(path + '/NLP_Team7/Data/glove.6B.100d.txt', encoding='utf-8')\n",
        "for line in f:\n",
        "    values = line.split()\n",
        "    word = values[0]\n",
        "    coefs = np.asarray(values[1:], dtype='float32')\n",
        "    word_embeddings[word] = coefs\n",
        "f.close()"
      ],
      "execution_count": 0,
      "outputs": []
    },
    {
      "metadata": {
        "id": "1aBT1bj_rus1",
        "colab_type": "code",
        "colab": {}
      },
      "cell_type": "code",
      "source": [
        "whole_sentence_vectors=[]\n",
        "for x in sentences:\n",
        "    sentence_vectors = []\n",
        "    for i in x:\n",
        "        if len(i) != 0:\n",
        "            v = sum([word_embeddings.get(w, np.zeros((100,))) for w in i])/(len(i.split())+0.001)\n",
        "        else:\n",
        "            v = np.zeros((100,))\n",
        "        sentence_vectors.append(v)\n",
        "    whole_sentence_vectors.append(sentence_vectors)"
      ],
      "execution_count": 0,
      "outputs": []
    },
    {
      "metadata": {
        "id": "1YEiHe9Trus5",
        "colab_type": "text"
      },
      "cell_type": "markdown",
      "source": [
        "# Similarity Matrix"
      ]
    },
    {
      "metadata": {
        "id": "6Js36F3grus6",
        "colab_type": "code",
        "colab": {}
      },
      "cell_type": "code",
      "source": [
        "# similarity matrix\n",
        "all_rank=[]\n",
        "G=[]\n",
        "for y in range(len(sentences)):\n",
        "    num_sen=len(sentences[y])\n",
        "    sim_mat = np.zeros([num_sen, num_sen])\n",
        "    for i in range(num_sen):\n",
        "        for j in range(num_sen):\n",
        "            if i != j:\n",
        "                sim_mat[i][j] = cosine_similarity(whole_sentence_vectors[y][i].reshape(1,100), whole_sentence_vectors[y][j].reshape(1,100))[0,0]\n",
        "    nx_graph = nx.from_numpy_array(sim_mat)\n",
        "    G.append(nx_graph)\n",
        "    scores = nx.pagerank(nx_graph)\n",
        "    ranked_sentences = sorted(((scores[i],s) for i,s in enumerate(sentences[y])), reverse=True)\n",
        "    all_rank.append(ranked_sentences)\n"
      ],
      "execution_count": 0,
      "outputs": []
    },
    {
      "metadata": {
        "id": "UwnUdm_6rus_",
        "colab_type": "text"
      },
      "cell_type": "markdown",
      "source": [
        "# Get Summaries"
      ]
    },
    {
      "metadata": {
        "id": "zP6ve0782IXG",
        "colab_type": "text"
      },
      "cell_type": "markdown",
      "source": [
        "WIll output summaries for the baselines and TextRank model"
      ]
    },
    {
      "metadata": {
        "id": "nNsQiikerutC",
        "colab_type": "code",
        "outputId": "9e2d902f-b83b-4c7d-f485-d4a46327ce75",
        "colab": {
          "base_uri": "https://localhost:8080/",
          "height": 52
        }
      },
      "cell_type": "code",
      "source": [
        "# Random Model\n",
        "import random\n",
        "random_s_all=[]\n",
        "for x in sentences:\n",
        "    random_s=random.choice(x)\n",
        "    random_s_all.append(random_s)\n",
        "print('Random Summary for Text 1:',random_s_all[0])\n",
        "print('Random Summary for Text 2:',random_s_all[1])"
      ],
      "execution_count": 0,
      "outputs": [
        {
          "output_type": "stream",
          "text": [
            "Random Summary for Text 1: that s ok \n",
            "Random Summary for Text 2: and sometimes these things you learn about the other person are not things you hoped for \n"
          ],
          "name": "stdout"
        }
      ]
    },
    {
      "metadata": {
        "id": "c0Z7VovWrutQ",
        "colab_type": "code",
        "outputId": "64d8413d-1d8c-437d-e994-667524afa263",
        "colab": {
          "base_uri": "https://localhost:8080/",
          "height": 52
        }
      },
      "cell_type": "code",
      "source": [
        "# Lead Model\n",
        "lead_s_all=[]\n",
        "for x in sentences:\n",
        "    lead_s=x[0]\n",
        "    lead_s_all.append(lead_s)\n",
        "print('Lead Summary for Text 1:',lead_s_all[0])\n",
        "print('Lead Summary for Text 2:',lead_s_all[1])"
      ],
      "execution_count": 0,
      "outputs": [
        {
          "output_type": "stream",
          "text": [
            "Lead Summary for Text 1:  if you find yourself taking it personally or doubting yourself try to build your confidence instead \n",
            "Lead Summary for Text 2: relationships sometimes experience moments of doubt where one or both partners simply don t know what to do \n"
          ],
          "name": "stdout"
        }
      ]
    },
    {
      "metadata": {
        "id": "5buooEjCruta",
        "colab_type": "code",
        "outputId": "4a27adac-3224-4761-da96-9eb48a2c8c22",
        "colab": {
          "base_uri": "https://localhost:8080/",
          "height": 52
        }
      },
      "cell_type": "code",
      "source": [
        "# TextRank based Model\n",
        "primary_s_all=[]\n",
        "for x in all_rank:\n",
        "    primary_s=0\n",
        "    primary_s=x[0][1]\n",
        "    primary_s_all.append(primary_s)\n",
        "    \n",
        "print('Text Rank based Summary for Text 1:',primary_s_all[0])\n",
        "print('Text Rank based Summary for Text 2:',primary_s_all[1])"
      ],
      "execution_count": 0,
      "outputs": [
        {
          "output_type": "stream",
          "text": [
            "Text Rank based Summary for Text 1: there are so many reasons that your crush might not be interested and almost none of them have to do with you \n",
            "Text Rank based Summary for Text 2: this trusted and supportive person may be able to help out or they can provide you with advice on who can \n"
          ],
          "name": "stdout"
        }
      ]
    },
    {
      "metadata": {
        "id": "GpyG5yZpzh94",
        "colab_type": "text"
      },
      "cell_type": "markdown",
      "source": [
        "## **Rouge Test**"
      ]
    },
    {
      "metadata": {
        "id": "SkWGet3uzhZY",
        "colab_type": "code",
        "colab": {}
      },
      "cell_type": "code",
      "source": [
        "def scoreSentence(summ_list):\n",
        "  # Load some sentences\n",
        "  rouge_1_list = []\n",
        "  rouge_2_list = []\n",
        "  rouge_l_list = []\n",
        "  \n",
        "  for summ in summ_list:\n",
        "    index = summ_list.index(summ)\n",
        "    hyps = headline_all[i]\n",
        "    refs = summ_list[i]\n",
        "    rouge = Rouge()\n",
        "\n",
        "    scores = rouge.get_scores(hyps, refs)\n",
        "    \n",
        "    rouge_1 = scores[0].get('rouge-1', {}).get('r', {})\n",
        "    rouge_2 = scores[0].get('rouge-2', {}).get('r', {})\n",
        "    rouge_l = scores[0].get('rouge-l', {}).get('r', {})\n",
        "    \n",
        "    rouge_1_list.append(rouge_1)\n",
        "    rouge_2_list.append(rouge_2)\n",
        "    rouge_l_list.append(rouge_l)\n",
        "    \n",
        "  return rouge_1_list, rouge_2_list, rouge_l_list\n"
      ],
      "execution_count": 0,
      "outputs": []
    },
    {
      "metadata": {
        "id": "BZTAHYn9z9Vl",
        "colab_type": "code",
        "outputId": "201c83e1-7978-41b1-fb2d-103a1e1a3ac8",
        "colab": {
          "base_uri": "https://localhost:8080/",
          "height": 69
        }
      },
      "cell_type": "code",
      "source": [
        "# Generate score per sentence\n",
        "r_rouge_1_list, r_rouge_2_list, r_rouge_l_list = scoreSentence(random_s_all)\n",
        "\n",
        "l_rouge_1_list, l_rouge_2_list, l_rouge_l_list = scoreSentence(lead_s_all)\n",
        "\n",
        "p_rouge_1_list, p_rouge_2_list, p_rouge_l_list = scoreSentence(primary_s_all)\n",
        "\n",
        "#Get the average score for each model\n",
        "rank_summary_rouge_1 = stats.mean(r_rouge_1_list)\n",
        "rank_summary_rouge_2 = stats.mean(r_rouge_2_list)\n",
        "rank_summary_rouge_l = stats.mean(r_rouge_l_list)\n",
        "\n",
        "lead_summary_rouge_1 = stats.mean(l_rouge_1_list)\n",
        "lead_summary_rouge_2 = stats.mean(l_rouge_2_list)\n",
        "lead_summary_rouge_l = stats.mean(l_rouge_l_list)\n",
        "\n",
        "random_summary_rouge_1 = stats.mean(p_rouge_1_list)\n",
        "random_summary_rouge_2 = stats.mean(p_rouge_2_list)\n",
        "random_summary_rouge_l = stats.mean(p_rouge_l_list)\n",
        "\n",
        "\n",
        "\n",
        "print(\"Random summary::: rouge_1 = %.3f , rouge_2  = %.3f , rouge_l = %.3f \" % (random_summary_rouge_1, random_summary_rouge_2, random_summary_rouge_l))\n",
        "print(\"Lead summary::: rouge_1 = %.3f , rouge_2  = %.3f , rouge_l = %.3f \" % (lead_summary_rouge_1, lead_summary_rouge_2, lead_summary_rouge_l))\n",
        "print(\"Text Rank summary::: rouge_1 = %.3f , rouge_2  = %.3f , rouge_l = %.3f \" % (rank_summary_rouge_1, rank_summary_rouge_2, rank_summary_rouge_l))"
      ],
      "execution_count": 0,
      "outputs": [
        {
          "output_type": "stream",
          "text": [
            "Random summary::: rouge_1 = 0.182 , rouge_2  = 0.000 , rouge_l = 0.136 \n",
            "Lead summary::: rouge_1 = 0.200 , rouge_2  = 0.000 , rouge_l = 0.200 \n",
            "Text Rank summary::: rouge_1 = 0.333 , rouge_2  = 0.000 , rouge_l = 0.333 \n"
          ],
          "name": "stdout"
        }
      ]
    },
    {
      "metadata": {
        "id": "mipVqPA20EnI",
        "colab_type": "code",
        "colab": {}
      },
      "cell_type": "code",
      "source": [
        ""
      ],
      "execution_count": 0,
      "outputs": []
    },
    {
      "metadata": {
        "id": "bTiBjLu8vgN8",
        "colab_type": "text"
      },
      "cell_type": "markdown",
      "source": [
        ""
      ]
    }
  ]
}